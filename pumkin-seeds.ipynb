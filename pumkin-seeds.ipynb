{
 "cells": [
  {
   "cell_type": "markdown",
   "id": "a060dc48",
   "metadata": {
    "papermill": {
     "duration": 0.012455,
     "end_time": "2022-07-11T14:45:20.263025",
     "exception": false,
     "start_time": "2022-07-11T14:45:20.250570",
     "status": "completed"
    },
    "tags": []
   },
   "source": [
    "<h1>1. Introduction</h1>"
   ]
  },
  {
   "cell_type": "code",
   "execution_count": 1,
   "id": "930f793c",
   "metadata": {
    "execution": {
     "iopub.execute_input": "2022-07-11T14:45:20.288066Z",
     "iopub.status.busy": "2022-07-11T14:45:20.287531Z",
     "iopub.status.idle": "2022-07-11T14:45:21.442739Z",
     "shell.execute_reply": "2022-07-11T14:45:21.441675Z"
    },
    "papermill": {
     "duration": 1.171074,
     "end_time": "2022-07-11T14:45:21.445604",
     "exception": false,
     "start_time": "2022-07-11T14:45:20.274530",
     "status": "completed"
    },
    "tags": []
   },
   "outputs": [],
   "source": [
    "#first of all import of neccessary libraries\n",
    "import pandas as pd\n",
    "%matplotlib inline\n",
    "import matplotlib.pyplot as plt\n",
    "import seaborn as sns\n",
    "import numpy as np"
   ]
  },
  {
   "cell_type": "code",
   "execution_count": 2,
   "id": "010a73b9",
   "metadata": {
    "execution": {
     "iopub.execute_input": "2022-07-11T14:45:21.470549Z",
     "iopub.status.busy": "2022-07-11T14:45:21.469544Z",
     "iopub.status.idle": "2022-07-11T14:45:35.569397Z",
     "shell.execute_reply": "2022-07-11T14:45:35.568514Z"
    },
    "papermill": {
     "duration": 14.115138,
     "end_time": "2022-07-11T14:45:35.571997",
     "exception": false,
     "start_time": "2022-07-11T14:45:21.456859",
     "status": "completed"
    },
    "tags": []
   },
   "outputs": [
    {
     "name": "stdout",
     "output_type": "stream",
     "text": [
      "Collecting openpyxl\r\n",
      "  Downloading openpyxl-3.0.10-py2.py3-none-any.whl (242 kB)\r\n",
      "\u001b[2K     \u001b[90m━━━━━━━━━━━━━━━━━━━━━━━━━━━━━━━━━━━━━━━\u001b[0m \u001b[32m242.1/242.1 kB\u001b[0m \u001b[31m1.5 MB/s\u001b[0m eta \u001b[36m0:00:00\u001b[0m\r\n",
      "\u001b[?25hCollecting et-xmlfile\r\n",
      "  Downloading et_xmlfile-1.1.0-py3-none-any.whl (4.7 kB)\r\n",
      "Installing collected packages: et-xmlfile, openpyxl\r\n",
      "Successfully installed et-xmlfile-1.1.0 openpyxl-3.0.10\r\n",
      "\u001b[33mWARNING: Running pip as the 'root' user can result in broken permissions and conflicting behaviour with the system package manager. It is recommended to use a virtual environment instead: https://pip.pypa.io/warnings/venv\u001b[0m\u001b[33m\r\n",
      "\u001b[0m"
     ]
    }
   ],
   "source": [
    "!pip install openpyxl #openpyxl is a Python library to read/write Excel 2010 xlsx/xlsm/xltx/xltm files."
   ]
  },
  {
   "cell_type": "code",
   "execution_count": 3,
   "id": "7ed5f89b",
   "metadata": {
    "execution": {
     "iopub.execute_input": "2022-07-11T14:45:35.597356Z",
     "iopub.status.busy": "2022-07-11T14:45:35.596938Z",
     "iopub.status.idle": "2022-07-11T14:45:36.470135Z",
     "shell.execute_reply": "2022-07-11T14:45:36.469288Z"
    },
    "papermill": {
     "duration": 0.888871,
     "end_time": "2022-07-11T14:45:36.472695",
     "exception": false,
     "start_time": "2022-07-11T14:45:35.583824",
     "status": "completed"
    },
    "tags": []
   },
   "outputs": [],
   "source": [
    "df=pd.read_excel('/kaggle/input/pumpkin-seeds-dataset/Pumpkin_Seeds_Dataset/Pumpkin_Seeds_Dataset.xlsx')"
   ]
  },
  {
   "cell_type": "code",
   "execution_count": 4,
   "id": "b2ba9781",
   "metadata": {
    "execution": {
     "iopub.execute_input": "2022-07-11T14:45:36.498370Z",
     "iopub.status.busy": "2022-07-11T14:45:36.497974Z",
     "iopub.status.idle": "2022-07-11T14:45:36.527802Z",
     "shell.execute_reply": "2022-07-11T14:45:36.526613Z"
    },
    "papermill": {
     "duration": 0.04581,
     "end_time": "2022-07-11T14:45:36.530300",
     "exception": false,
     "start_time": "2022-07-11T14:45:36.484490",
     "status": "completed"
    },
    "tags": []
   },
   "outputs": [
    {
     "data": {
      "text/html": [
       "<div>\n",
       "<style scoped>\n",
       "    .dataframe tbody tr th:only-of-type {\n",
       "        vertical-align: middle;\n",
       "    }\n",
       "\n",
       "    .dataframe tbody tr th {\n",
       "        vertical-align: top;\n",
       "    }\n",
       "\n",
       "    .dataframe thead th {\n",
       "        text-align: right;\n",
       "    }\n",
       "</style>\n",
       "<table border=\"1\" class=\"dataframe\">\n",
       "  <thead>\n",
       "    <tr style=\"text-align: right;\">\n",
       "      <th></th>\n",
       "      <th>Area</th>\n",
       "      <th>Perimeter</th>\n",
       "      <th>Major_Axis_Length</th>\n",
       "      <th>Minor_Axis_Length</th>\n",
       "      <th>Convex_Area</th>\n",
       "      <th>Equiv_Diameter</th>\n",
       "      <th>Eccentricity</th>\n",
       "      <th>Solidity</th>\n",
       "      <th>Extent</th>\n",
       "      <th>Roundness</th>\n",
       "      <th>Aspect_Ration</th>\n",
       "      <th>Compactness</th>\n",
       "      <th>Class</th>\n",
       "    </tr>\n",
       "  </thead>\n",
       "  <tbody>\n",
       "    <tr>\n",
       "      <th>0</th>\n",
       "      <td>56276</td>\n",
       "      <td>888.242</td>\n",
       "      <td>326.1485</td>\n",
       "      <td>220.2388</td>\n",
       "      <td>56831</td>\n",
       "      <td>267.6805</td>\n",
       "      <td>0.7376</td>\n",
       "      <td>0.9902</td>\n",
       "      <td>0.7453</td>\n",
       "      <td>0.8963</td>\n",
       "      <td>1.4809</td>\n",
       "      <td>0.8207</td>\n",
       "      <td>Çerçevelik</td>\n",
       "    </tr>\n",
       "    <tr>\n",
       "      <th>1</th>\n",
       "      <td>76631</td>\n",
       "      <td>1068.146</td>\n",
       "      <td>417.1932</td>\n",
       "      <td>234.2289</td>\n",
       "      <td>77280</td>\n",
       "      <td>312.3614</td>\n",
       "      <td>0.8275</td>\n",
       "      <td>0.9916</td>\n",
       "      <td>0.7151</td>\n",
       "      <td>0.8440</td>\n",
       "      <td>1.7811</td>\n",
       "      <td>0.7487</td>\n",
       "      <td>Çerçevelik</td>\n",
       "    </tr>\n",
       "    <tr>\n",
       "      <th>2</th>\n",
       "      <td>71623</td>\n",
       "      <td>1082.987</td>\n",
       "      <td>435.8328</td>\n",
       "      <td>211.0457</td>\n",
       "      <td>72663</td>\n",
       "      <td>301.9822</td>\n",
       "      <td>0.8749</td>\n",
       "      <td>0.9857</td>\n",
       "      <td>0.7400</td>\n",
       "      <td>0.7674</td>\n",
       "      <td>2.0651</td>\n",
       "      <td>0.6929</td>\n",
       "      <td>Çerçevelik</td>\n",
       "    </tr>\n",
       "    <tr>\n",
       "      <th>3</th>\n",
       "      <td>66458</td>\n",
       "      <td>992.051</td>\n",
       "      <td>381.5638</td>\n",
       "      <td>222.5322</td>\n",
       "      <td>67118</td>\n",
       "      <td>290.8899</td>\n",
       "      <td>0.8123</td>\n",
       "      <td>0.9902</td>\n",
       "      <td>0.7396</td>\n",
       "      <td>0.8486</td>\n",
       "      <td>1.7146</td>\n",
       "      <td>0.7624</td>\n",
       "      <td>Çerçevelik</td>\n",
       "    </tr>\n",
       "    <tr>\n",
       "      <th>4</th>\n",
       "      <td>66107</td>\n",
       "      <td>998.146</td>\n",
       "      <td>383.8883</td>\n",
       "      <td>220.4545</td>\n",
       "      <td>67117</td>\n",
       "      <td>290.1207</td>\n",
       "      <td>0.8187</td>\n",
       "      <td>0.9850</td>\n",
       "      <td>0.6752</td>\n",
       "      <td>0.8338</td>\n",
       "      <td>1.7413</td>\n",
       "      <td>0.7557</td>\n",
       "      <td>Çerçevelik</td>\n",
       "    </tr>\n",
       "  </tbody>\n",
       "</table>\n",
       "</div>"
      ],
      "text/plain": [
       "    Area  Perimeter  Major_Axis_Length  Minor_Axis_Length  Convex_Area  \\\n",
       "0  56276    888.242           326.1485           220.2388        56831   \n",
       "1  76631   1068.146           417.1932           234.2289        77280   \n",
       "2  71623   1082.987           435.8328           211.0457        72663   \n",
       "3  66458    992.051           381.5638           222.5322        67118   \n",
       "4  66107    998.146           383.8883           220.4545        67117   \n",
       "\n",
       "   Equiv_Diameter  Eccentricity  Solidity  Extent  Roundness  Aspect_Ration  \\\n",
       "0        267.6805        0.7376    0.9902  0.7453     0.8963         1.4809   \n",
       "1        312.3614        0.8275    0.9916  0.7151     0.8440         1.7811   \n",
       "2        301.9822        0.8749    0.9857  0.7400     0.7674         2.0651   \n",
       "3        290.8899        0.8123    0.9902  0.7396     0.8486         1.7146   \n",
       "4        290.1207        0.8187    0.9850  0.6752     0.8338         1.7413   \n",
       "\n",
       "   Compactness       Class  \n",
       "0       0.8207  Çerçevelik  \n",
       "1       0.7487  Çerçevelik  \n",
       "2       0.6929  Çerçevelik  \n",
       "3       0.7624  Çerçevelik  \n",
       "4       0.7557  Çerçevelik  "
      ]
     },
     "execution_count": 4,
     "metadata": {},
     "output_type": "execute_result"
    }
   ],
   "source": [
    "df.head()"
   ]
  },
  {
   "cell_type": "code",
   "execution_count": 5,
   "id": "7fba690e",
   "metadata": {
    "execution": {
     "iopub.execute_input": "2022-07-11T14:45:36.557020Z",
     "iopub.status.busy": "2022-07-11T14:45:36.556352Z",
     "iopub.status.idle": "2022-07-11T14:45:36.563803Z",
     "shell.execute_reply": "2022-07-11T14:45:36.562665Z"
    },
    "papermill": {
     "duration": 0.023334,
     "end_time": "2022-07-11T14:45:36.565950",
     "exception": false,
     "start_time": "2022-07-11T14:45:36.542616",
     "status": "completed"
    },
    "tags": []
   },
   "outputs": [
    {
     "data": {
      "text/plain": [
       "Index(['Area', 'Perimeter', 'Major_Axis_Length', 'Minor_Axis_Length',\n",
       "       'Convex_Area', 'Equiv_Diameter', 'Eccentricity', 'Solidity', 'Extent',\n",
       "       'Roundness', 'Aspect_Ration', 'Compactness', 'Class'],\n",
       "      dtype='object')"
      ]
     },
     "execution_count": 5,
     "metadata": {},
     "output_type": "execute_result"
    }
   ],
   "source": [
    "df.columns"
   ]
  },
  {
   "cell_type": "code",
   "execution_count": 6,
   "id": "730b684a",
   "metadata": {
    "execution": {
     "iopub.execute_input": "2022-07-11T14:45:36.592233Z",
     "iopub.status.busy": "2022-07-11T14:45:36.591594Z",
     "iopub.status.idle": "2022-07-11T14:45:36.602098Z",
     "shell.execute_reply": "2022-07-11T14:45:36.600993Z"
    },
    "papermill": {
     "duration": 0.026414,
     "end_time": "2022-07-11T14:45:36.604277",
     "exception": false,
     "start_time": "2022-07-11T14:45:36.577863",
     "status": "completed"
    },
    "tags": []
   },
   "outputs": [
    {
     "data": {
      "text/plain": [
       "Area                 0\n",
       "Perimeter            0\n",
       "Major_Axis_Length    0\n",
       "Minor_Axis_Length    0\n",
       "Convex_Area          0\n",
       "Equiv_Diameter       0\n",
       "Eccentricity         0\n",
       "Solidity             0\n",
       "Extent               0\n",
       "Roundness            0\n",
       "Aspect_Ration        0\n",
       "Compactness          0\n",
       "Class                0\n",
       "dtype: int64"
      ]
     },
     "execution_count": 6,
     "metadata": {},
     "output_type": "execute_result"
    }
   ],
   "source": [
    "df.isnull().sum()"
   ]
  },
  {
   "cell_type": "code",
   "execution_count": 7,
   "id": "8dec767a",
   "metadata": {
    "execution": {
     "iopub.execute_input": "2022-07-11T14:45:36.630820Z",
     "iopub.status.busy": "2022-07-11T14:45:36.630146Z",
     "iopub.status.idle": "2022-07-11T14:45:36.640061Z",
     "shell.execute_reply": "2022-07-11T14:45:36.639073Z"
    },
    "papermill": {
     "duration": 0.025566,
     "end_time": "2022-07-11T14:45:36.641977",
     "exception": false,
     "start_time": "2022-07-11T14:45:36.616411",
     "status": "completed"
    },
    "tags": []
   },
   "outputs": [
    {
     "name": "stderr",
     "output_type": "stream",
     "text": [
      "/opt/conda/lib/python3.7/site-packages/ipykernel_launcher.py:1: FutureWarning: Dropping of nuisance columns in DataFrame reductions (with 'numeric_only=None') is deprecated; in a future version this will raise TypeError.  Select only valid columns before calling the reduction.\n",
      "  \"\"\"Entry point for launching an IPython kernel.\n"
     ]
    },
    {
     "data": {
      "text/plain": [
       "Area                 0.495999\n",
       "Perimeter            0.414539\n",
       "Major_Axis_Length    0.502980\n",
       "Minor_Axis_Length    0.104303\n",
       "Convex_Area          0.494016\n",
       "Equiv_Diameter       0.271868\n",
       "Eccentricity        -0.748623\n",
       "Solidity            -5.691009\n",
       "Extent              -1.026568\n",
       "Roundness           -0.372687\n",
       "Aspect_Ration        0.548231\n",
       "Compactness         -0.062377\n",
       "dtype: float64"
      ]
     },
     "execution_count": 7,
     "metadata": {},
     "output_type": "execute_result"
    }
   ],
   "source": [
    "df.skew()"
   ]
  },
  {
   "cell_type": "markdown",
   "id": "4b38aa77",
   "metadata": {
    "papermill": {
     "duration": 0.012619,
     "end_time": "2022-07-11T14:45:36.666879",
     "exception": false,
     "start_time": "2022-07-11T14:45:36.654260",
     "status": "completed"
    },
    "tags": []
   },
   "source": [
    "<h1>2. Visualization</h1>"
   ]
  },
  {
   "cell_type": "code",
   "execution_count": 8,
   "id": "333b3e1a",
   "metadata": {
    "execution": {
     "iopub.execute_input": "2022-07-11T14:45:36.694057Z",
     "iopub.status.busy": "2022-07-11T14:45:36.693371Z",
     "iopub.status.idle": "2022-07-11T14:45:36.702170Z",
     "shell.execute_reply": "2022-07-11T14:45:36.701458Z"
    },
    "papermill": {
     "duration": 0.024668,
     "end_time": "2022-07-11T14:45:36.704233",
     "exception": false,
     "start_time": "2022-07-11T14:45:36.679565",
     "status": "completed"
    },
    "tags": []
   },
   "outputs": [],
   "source": [
    "df_corr =  df.corr()"
   ]
  },
  {
   "cell_type": "code",
   "execution_count": 9,
   "id": "126cb6ed",
   "metadata": {
    "execution": {
     "iopub.execute_input": "2022-07-11T14:45:36.730910Z",
     "iopub.status.busy": "2022-07-11T14:45:36.730156Z",
     "iopub.status.idle": "2022-07-11T14:45:37.771733Z",
     "shell.execute_reply": "2022-07-11T14:45:37.770477Z"
    },
    "papermill": {
     "duration": 1.058754,
     "end_time": "2022-07-11T14:45:37.775256",
     "exception": false,
     "start_time": "2022-07-11T14:45:36.716502",
     "status": "completed"
    },
    "tags": []
   },
   "outputs": [
    {
     "data": {
      "image/png": "[encoded data removed]",
      "text/plain": [
       "<Figure size 1440x864 with 2 Axes>"
      ]
     },
     "metadata": {},
     "output_type": "display_data"
    }
   ],
   "source": [
    "cm = np.corrcoef(df_corr.values.T)\n",
    "sns.set(font_scale=1.25)\n",
    "plt.subplots(figsize=(20,12))\n",
    "plt.title(\"Correlation of features\")\n",
    "hm = sns.heatmap(cm, cbar=True, annot=True, square=True, fmt='.2f', annot_kws={'size': 10}, \n",
    "                 yticklabels=df_corr.columns.values, xticklabels=df_corr.columns.values)\n",
    "plt.show()"
   ]
  },
  {
   "cell_type": "markdown",
   "id": "c6983d64",
   "metadata": {
    "papermill": {
     "duration": 0.014123,
     "end_time": "2022-07-11T14:45:37.804709",
     "exception": false,
     "start_time": "2022-07-11T14:45:37.790586",
     "status": "completed"
    },
    "tags": []
   },
   "source": [
    "<h1>3. Preparing data to ML</h1>"
   ]
  },
  {
   "cell_type": "code",
   "execution_count": 10,
   "id": "d52dbc06",
   "metadata": {
    "execution": {
     "iopub.execute_input": "2022-07-11T14:45:37.835951Z",
     "iopub.status.busy": "2022-07-11T14:45:37.835556Z",
     "iopub.status.idle": "2022-07-11T14:45:37.847560Z",
     "shell.execute_reply": "2022-07-11T14:45:37.846476Z"
    },
    "papermill": {
     "duration": 0.030238,
     "end_time": "2022-07-11T14:45:37.850048",
     "exception": false,
     "start_time": "2022-07-11T14:45:37.819810",
     "status": "completed"
    },
    "tags": []
   },
   "outputs": [],
   "source": [
    "df['Class'] = df.Class.replace({'Çerçevelik':0, 'Ürgüp Sivrisi':1}) #[0 1], got ['Çerçevelik' 'Ürgüp Sivrisi']"
   ]
  },
  {
   "cell_type": "code",
   "execution_count": 11,
   "id": "9577cb53",
   "metadata": {
    "execution": {
     "iopub.execute_input": "2022-07-11T14:45:37.880728Z",
     "iopub.status.busy": "2022-07-11T14:45:37.880179Z",
     "iopub.status.idle": "2022-07-11T14:45:37.890910Z",
     "shell.execute_reply": "2022-07-11T14:45:37.889868Z"
    },
    "papermill": {
     "duration": 0.028501,
     "end_time": "2022-07-11T14:45:37.892986",
     "exception": false,
     "start_time": "2022-07-11T14:45:37.864485",
     "status": "completed"
    },
    "tags": []
   },
   "outputs": [
    {
     "data": {
      "text/plain": [
       "array([0, 1])"
      ]
     },
     "execution_count": 11,
     "metadata": {},
     "output_type": "execute_result"
    }
   ],
   "source": [
    "df.Class.unique()"
   ]
  },
  {
   "cell_type": "code",
   "execution_count": 12,
   "id": "34c96cf9",
   "metadata": {
    "execution": {
     "iopub.execute_input": "2022-07-11T14:45:37.924227Z",
     "iopub.status.busy": "2022-07-11T14:45:37.923810Z",
     "iopub.status.idle": "2022-07-11T14:45:38.228745Z",
     "shell.execute_reply": "2022-07-11T14:45:38.227683Z"
    },
    "papermill": {
     "duration": 0.323819,
     "end_time": "2022-07-11T14:45:38.231570",
     "exception": false,
     "start_time": "2022-07-11T14:45:37.907751",
     "status": "completed"
    },
    "tags": []
   },
   "outputs": [],
   "source": [
    "from sklearn.decomposition import PCA #для снижения размерности данных с минимальными потерями\n",
    "from sklearn.model_selection import KFold, train_test_split, GridSearchCV"
   ]
  },
  {
   "cell_type": "code",
   "execution_count": 13,
   "id": "9929f3ca",
   "metadata": {
    "execution": {
     "iopub.execute_input": "2022-07-11T14:45:38.263522Z",
     "iopub.status.busy": "2022-07-11T14:45:38.262450Z",
     "iopub.status.idle": "2022-07-11T14:45:38.271011Z",
     "shell.execute_reply": "2022-07-11T14:45:38.270182Z"
    },
    "papermill": {
     "duration": 0.026866,
     "end_time": "2022-07-11T14:45:38.273172",
     "exception": false,
     "start_time": "2022-07-11T14:45:38.246306",
     "status": "completed"
    },
    "tags": []
   },
   "outputs": [],
   "source": [
    "X = df.drop('Class', axis=1)\n",
    "y = df.Class"
   ]
  },
  {
   "cell_type": "code",
   "execution_count": 14,
   "id": "5cc4efa9",
   "metadata": {
    "execution": {
     "iopub.execute_input": "2022-07-11T14:45:38.304468Z",
     "iopub.status.busy": "2022-07-11T14:45:38.304050Z",
     "iopub.status.idle": "2022-07-11T14:45:38.311260Z",
     "shell.execute_reply": "2022-07-11T14:45:38.310185Z"
    },
    "papermill": {
     "duration": 0.025473,
     "end_time": "2022-07-11T14:45:38.313447",
     "exception": false,
     "start_time": "2022-07-11T14:45:38.287974",
     "status": "completed"
    },
    "tags": []
   },
   "outputs": [
    {
     "data": {
      "text/plain": [
       "((2500, 12), (2500,))"
      ]
     },
     "execution_count": 14,
     "metadata": {},
     "output_type": "execute_result"
    }
   ],
   "source": [
    "X.shape, y.shape"
   ]
  },
  {
   "cell_type": "code",
   "execution_count": 15,
   "id": "40631bac",
   "metadata": {
    "execution": {
     "iopub.execute_input": "2022-07-11T14:45:38.344851Z",
     "iopub.status.busy": "2022-07-11T14:45:38.344444Z",
     "iopub.status.idle": "2022-07-11T14:45:38.353918Z",
     "shell.execute_reply": "2022-07-11T14:45:38.352756Z"
    },
    "papermill": {
     "duration": 0.027955,
     "end_time": "2022-07-11T14:45:38.356240",
     "exception": false,
     "start_time": "2022-07-11T14:45:38.328285",
     "status": "completed"
    },
    "tags": []
   },
   "outputs": [],
   "source": [
    "X_train, X_test, y_train, y_test = train_test_split(X, y, test_size=0.5, random_state=0)"
   ]
  },
  {
   "cell_type": "code",
   "execution_count": 16,
   "id": "dfde175f",
   "metadata": {
    "execution": {
     "iopub.execute_input": "2022-07-11T14:45:38.387753Z",
     "iopub.status.busy": "2022-07-11T14:45:38.387317Z",
     "iopub.status.idle": "2022-07-11T14:45:38.424528Z",
     "shell.execute_reply": "2022-07-11T14:45:38.423145Z"
    },
    "papermill": {
     "duration": 0.057751,
     "end_time": "2022-07-11T14:45:38.428850",
     "exception": false,
     "start_time": "2022-07-11T14:45:38.371099",
     "status": "completed"
    },
    "tags": []
   },
   "outputs": [
    {
     "data": {
      "text/plain": [
       "PCA()"
      ]
     },
     "execution_count": 16,
     "metadata": {},
     "output_type": "execute_result"
    }
   ],
   "source": [
    "pca = PCA()\n",
    "pca.fit(X_train)"
   ]
  },
  {
   "cell_type": "code",
   "execution_count": 17,
   "id": "bbce5f5c",
   "metadata": {
    "execution": {
     "iopub.execute_input": "2022-07-11T14:45:38.487157Z",
     "iopub.status.busy": "2022-07-11T14:45:38.486342Z",
     "iopub.status.idle": "2022-07-11T14:45:38.503789Z",
     "shell.execute_reply": "2022-07-11T14:45:38.502367Z"
    },
    "papermill": {
     "duration": 0.05149,
     "end_time": "2022-07-11T14:45:38.508556",
     "exception": false,
     "start_time": "2022-07-11T14:45:38.457066",
     "status": "completed"
    },
    "tags": []
   },
   "outputs": [],
   "source": [
    "X_train_pca = pca.transform(X_train)\n",
    "X_test_pca = pca.transform(X_test)"
   ]
  },
  {
   "cell_type": "markdown",
   "id": "297367f8",
   "metadata": {
    "papermill": {
     "duration": 0.014587,
     "end_time": "2022-07-11T14:45:38.547373",
     "exception": false,
     "start_time": "2022-07-11T14:45:38.532786",
     "status": "completed"
    },
    "tags": []
   },
   "source": [
    "<h1>4. Models</h1>"
   ]
  },
  {
   "cell_type": "code",
   "execution_count": 18,
   "id": "d7799609",
   "metadata": {
    "execution": {
     "iopub.execute_input": "2022-07-11T14:45:38.579198Z",
     "iopub.status.busy": "2022-07-11T14:45:38.578512Z",
     "iopub.status.idle": "2022-07-11T14:45:38.583283Z",
     "shell.execute_reply": "2022-07-11T14:45:38.582477Z"
    },
    "papermill": {
     "duration": 0.023026,
     "end_time": "2022-07-11T14:45:38.585245",
     "exception": false,
     "start_time": "2022-07-11T14:45:38.562219",
     "status": "completed"
    },
    "tags": []
   },
   "outputs": [],
   "source": [
    "from sklearn.svm import LinearSVC"
   ]
  },
  {
   "cell_type": "code",
   "execution_count": 19,
   "id": "7c1fe97e",
   "metadata": {
    "execution": {
     "iopub.execute_input": "2022-07-11T14:45:38.617469Z",
     "iopub.status.busy": "2022-07-11T14:45:38.616669Z",
     "iopub.status.idle": "2022-07-11T14:45:38.698028Z",
     "shell.execute_reply": "2022-07-11T14:45:38.697222Z"
    },
    "papermill": {
     "duration": 0.100123,
     "end_time": "2022-07-11T14:45:38.700331",
     "exception": false,
     "start_time": "2022-07-11T14:45:38.600208",
     "status": "completed"
    },
    "tags": []
   },
   "outputs": [
    {
     "name": "stderr",
     "output_type": "stream",
     "text": [
      "/opt/conda/lib/python3.7/site-packages/sklearn/svm/_base.py:1208: ConvergenceWarning: Liblinear failed to converge, increase the number of iterations.\n",
      "  ConvergenceWarning,\n"
     ]
    }
   ],
   "source": [
    "linearSVC = LinearSVC(random_state=12)\n",
    "b = linearSVC.fit(X_train_pca, y_train)"
   ]
  },
  {
   "cell_type": "code",
   "execution_count": 20,
   "id": "4c27aed8",
   "metadata": {
    "execution": {
     "iopub.execute_input": "2022-07-11T14:45:38.732263Z",
     "iopub.status.busy": "2022-07-11T14:45:38.731538Z",
     "iopub.status.idle": "2022-07-11T14:45:38.739924Z",
     "shell.execute_reply": "2022-07-11T14:45:38.738626Z"
    },
    "papermill": {
     "duration": 0.02889,
     "end_time": "2022-07-11T14:45:38.744146",
     "exception": false,
     "start_time": "2022-07-11T14:45:38.715256",
     "status": "completed"
    },
    "tags": []
   },
   "outputs": [],
   "source": [
    "pred_yb = b.predict(X_test_pca)"
   ]
  },
  {
   "cell_type": "code",
   "execution_count": 21,
   "id": "efcb8898",
   "metadata": {
    "execution": {
     "iopub.execute_input": "2022-07-11T14:45:38.801394Z",
     "iopub.status.busy": "2022-07-11T14:45:38.800753Z",
     "iopub.status.idle": "2022-07-11T14:45:38.911811Z",
     "shell.execute_reply": "2022-07-11T14:45:38.910400Z"
    },
    "papermill": {
     "duration": 0.143166,
     "end_time": "2022-07-11T14:45:38.914946",
     "exception": false,
     "start_time": "2022-07-11T14:45:38.771780",
     "status": "completed"
    },
    "tags": []
   },
   "outputs": [],
   "source": [
    "import xgboost as xgb"
   ]
  },
  {
   "cell_type": "code",
   "execution_count": 22,
   "id": "4d449482",
   "metadata": {
    "execution": {
     "iopub.execute_input": "2022-07-11T14:45:38.947563Z",
     "iopub.status.busy": "2022-07-11T14:45:38.947111Z",
     "iopub.status.idle": "2022-07-11T14:45:39.068902Z",
     "shell.execute_reply": "2022-07-11T14:45:39.067757Z"
    },
    "papermill": {
     "duration": 0.141691,
     "end_time": "2022-07-11T14:45:39.071884",
     "exception": false,
     "start_time": "2022-07-11T14:45:38.930193",
     "status": "completed"
    },
    "tags": []
   },
   "outputs": [],
   "source": [
    "from sklearn.ensemble import RandomForestClassifier\n",
    "\n",
    "clf = RandomForestClassifier()"
   ]
  },
  {
   "cell_type": "code",
   "execution_count": 23,
   "id": "b97d09eb",
   "metadata": {
    "execution": {
     "iopub.execute_input": "2022-07-11T14:45:39.104553Z",
     "iopub.status.busy": "2022-07-11T14:45:39.104104Z",
     "iopub.status.idle": "2022-07-11T14:45:39.112070Z",
     "shell.execute_reply": "2022-07-11T14:45:39.110912Z"
    },
    "papermill": {
     "duration": 0.027276,
     "end_time": "2022-07-11T14:45:39.114143",
     "exception": false,
     "start_time": "2022-07-11T14:45:39.086867",
     "status": "completed"
    },
    "tags": []
   },
   "outputs": [],
   "source": [
    "parametrs = { 'n_estimators': range (10, 51, 10),\n",
    "              'max_depth': range (1,13, 2),\n",
    "              'min_samples_leaf': range (1,8),\n",
    "              'min_samples_split': range (2,10,2) }\n",
    "grid = GridSearchCV(clf, parametrs, cv=5)"
   ]
  },
  {
   "cell_type": "code",
   "execution_count": 24,
   "id": "1574c2da",
   "metadata": {
    "execution": {
     "iopub.execute_input": "2022-07-11T14:45:39.146834Z",
     "iopub.status.busy": "2022-07-11T14:45:39.145543Z",
     "iopub.status.idle": "2022-07-11T14:52:04.038639Z",
     "shell.execute_reply": "2022-07-11T14:52:04.037124Z"
    },
    "papermill": {
     "duration": 384.928487,
     "end_time": "2022-07-11T14:52:04.057665",
     "exception": false,
     "start_time": "2022-07-11T14:45:39.129178",
     "status": "completed"
    },
    "tags": []
   },
   "outputs": [
    {
     "data": {
      "text/plain": [
       "{'max_depth': 7,\n",
       " 'min_samples_leaf': 1,\n",
       " 'min_samples_split': 8,\n",
       " 'n_estimators': 20}"
      ]
     },
     "execution_count": 24,
     "metadata": {},
     "output_type": "execute_result"
    }
   ],
   "source": [
    "grid.fit(X_train_pca, y_train)\n",
    "grid.best_params_"
   ]
  },
  {
   "cell_type": "code",
   "execution_count": 25,
   "id": "47dc4782",
   "metadata": {
    "execution": {
     "iopub.execute_input": "2022-07-11T14:52:04.092498Z",
     "iopub.status.busy": "2022-07-11T14:52:04.091999Z",
     "iopub.status.idle": "2022-07-11T14:52:04.099912Z",
     "shell.execute_reply": "2022-07-11T14:52:04.098297Z"
    },
    "papermill": {
     "duration": 0.027824,
     "end_time": "2022-07-11T14:52:04.102451",
     "exception": false,
     "start_time": "2022-07-11T14:52:04.074627",
     "status": "completed"
    },
    "tags": []
   },
   "outputs": [
    {
     "data": {
      "text/plain": [
       "0.892"
      ]
     },
     "execution_count": 25,
     "metadata": {},
     "output_type": "execute_result"
    }
   ],
   "source": [
    "grid.best_score_"
   ]
  },
  {
   "cell_type": "code",
   "execution_count": 26,
   "id": "4d3314b0",
   "metadata": {
    "execution": {
     "iopub.execute_input": "2022-07-11T14:52:04.137086Z",
     "iopub.status.busy": "2022-07-11T14:52:04.136313Z",
     "iopub.status.idle": "2022-07-11T14:52:04.142496Z",
     "shell.execute_reply": "2022-07-11T14:52:04.141293Z"
    },
    "papermill": {
     "duration": 0.025931,
     "end_time": "2022-07-11T14:52:04.144749",
     "exception": false,
     "start_time": "2022-07-11T14:52:04.118818",
     "status": "completed"
    },
    "tags": []
   },
   "outputs": [],
   "source": [
    "clf = RandomForestClassifier(max_depth=11, min_samples_leaf=3, min_samples_split=8, n_estimators=40)"
   ]
  },
  {
   "cell_type": "code",
   "execution_count": 27,
   "id": "5bcc9e50",
   "metadata": {
    "execution": {
     "iopub.execute_input": "2022-07-11T14:52:04.177614Z",
     "iopub.status.busy": "2022-07-11T14:52:04.176724Z",
     "iopub.status.idle": "2022-07-11T14:52:04.351801Z",
     "shell.execute_reply": "2022-07-11T14:52:04.350556Z"
    },
    "papermill": {
     "duration": 0.194433,
     "end_time": "2022-07-11T14:52:04.354523",
     "exception": false,
     "start_time": "2022-07-11T14:52:04.160090",
     "status": "completed"
    },
    "tags": []
   },
   "outputs": [
    {
     "data": {
      "text/plain": [
       "RandomForestClassifier(max_depth=11, min_samples_leaf=3, min_samples_split=8,\n",
       "                       n_estimators=40)"
      ]
     },
     "execution_count": 27,
     "metadata": {},
     "output_type": "execute_result"
    }
   ],
   "source": [
    "clf.fit(X_train_pca,y_train)"
   ]
  },
  {
   "cell_type": "code",
   "execution_count": 28,
   "id": "12554601",
   "metadata": {
    "execution": {
     "iopub.execute_input": "2022-07-11T14:52:04.389638Z",
     "iopub.status.busy": "2022-07-11T14:52:04.388846Z",
     "iopub.status.idle": "2022-07-11T14:52:04.405947Z",
     "shell.execute_reply": "2022-07-11T14:52:04.404966Z"
    },
    "papermill": {
     "duration": 0.038141,
     "end_time": "2022-07-11T14:52:04.408651",
     "exception": false,
     "start_time": "2022-07-11T14:52:04.370510",
     "status": "completed"
    },
    "tags": []
   },
   "outputs": [],
   "source": [
    "clf_pred = clf.predict(X_test_pca)"
   ]
  },
  {
   "cell_type": "code",
   "execution_count": 29,
   "id": "320c1387",
   "metadata": {
    "execution": {
     "iopub.execute_input": "2022-07-11T14:52:04.446044Z",
     "iopub.status.busy": "2022-07-11T14:52:04.445332Z",
     "iopub.status.idle": "2022-07-11T14:52:04.450345Z",
     "shell.execute_reply": "2022-07-11T14:52:04.448912Z"
    },
    "papermill": {
     "duration": 0.027494,
     "end_time": "2022-07-11T14:52:04.452998",
     "exception": false,
     "start_time": "2022-07-11T14:52:04.425504",
     "status": "completed"
    },
    "tags": []
   },
   "outputs": [],
   "source": [
    "xgb_model = xgb.XGBClassifier()"
   ]
  },
  {
   "cell_type": "code",
   "execution_count": 30,
   "id": "a97f0559",
   "metadata": {
    "execution": {
     "iopub.execute_input": "2022-07-11T14:52:04.486871Z",
     "iopub.status.busy": "2022-07-11T14:52:04.486435Z",
     "iopub.status.idle": "2022-07-11T14:52:04.493726Z",
     "shell.execute_reply": "2022-07-11T14:52:04.492370Z"
    },
    "papermill": {
     "duration": 0.026747,
     "end_time": "2022-07-11T14:52:04.496069",
     "exception": false,
     "start_time": "2022-07-11T14:52:04.469322",
     "status": "completed"
    },
    "tags": []
   },
   "outputs": [],
   "source": [
    "params = {\n",
    "        'min_child_weight': [1, 5, 10],\n",
    "        'gamma': [0.5, 1, 1.5, 2, 5],\n",
    "        'subsample': [0.6, 0.8, 1.0],\n",
    "        'colsample_bytree': [0.6, 0.8, 1.0],\n",
    "        'max_depth': [3, 4, 5]\n",
    "        }\n",
    "grid_xgb = GridSearchCV(xgb_model, params, cv=5)"
   ]
  },
  {
   "cell_type": "code",
   "execution_count": 31,
   "id": "03945b24",
   "metadata": {
    "execution": {
     "iopub.execute_input": "2022-07-11T14:52:04.530562Z",
     "iopub.status.busy": "2022-07-11T14:52:04.529324Z",
     "iopub.status.idle": "2022-07-11T15:07:00.209888Z",
     "shell.execute_reply": "2022-07-11T15:07:00.208966Z"
    },
    "papermill": {
     "duration": 895.70836,
     "end_time": "2022-07-11T15:07:00.220479",
     "exception": false,
     "start_time": "2022-07-11T14:52:04.512119",
     "status": "completed"
    },
    "tags": []
   },
   "outputs": [
    {
     "data": {
      "text/plain": [
       "0.8888"
      ]
     },
     "execution_count": 31,
     "metadata": {},
     "output_type": "execute_result"
    }
   ],
   "source": [
    "grid_xgb.fit(X_train_pca, y_train)\n",
    "grid_xgb.best_params_\n",
    "grid_xgb.best_score_"
   ]
  },
  {
   "cell_type": "code",
   "execution_count": 32,
   "id": "09f284d6",
   "metadata": {
    "execution": {
     "iopub.execute_input": "2022-07-11T15:07:00.254224Z",
     "iopub.status.busy": "2022-07-11T15:07:00.253305Z",
     "iopub.status.idle": "2022-07-11T15:07:00.259579Z",
     "shell.execute_reply": "2022-07-11T15:07:00.258740Z"
    },
    "papermill": {
     "duration": 0.025585,
     "end_time": "2022-07-11T15:07:00.261743",
     "exception": false,
     "start_time": "2022-07-11T15:07:00.236158",
     "status": "completed"
    },
    "tags": []
   },
   "outputs": [
    {
     "data": {
      "text/plain": [
       "0.8888"
      ]
     },
     "execution_count": 32,
     "metadata": {},
     "output_type": "execute_result"
    }
   ],
   "source": [
    "grid_xgb.best_score_"
   ]
  },
  {
   "cell_type": "code",
   "execution_count": 33,
   "id": "3e309b53",
   "metadata": {
    "execution": {
     "iopub.execute_input": "2022-07-11T15:07:00.294909Z",
     "iopub.status.busy": "2022-07-11T15:07:00.294539Z",
     "iopub.status.idle": "2022-07-11T15:07:00.301377Z",
     "shell.execute_reply": "2022-07-11T15:07:00.300314Z"
    },
    "papermill": {
     "duration": 0.025751,
     "end_time": "2022-07-11T15:07:00.303568",
     "exception": false,
     "start_time": "2022-07-11T15:07:00.277817",
     "status": "completed"
    },
    "tags": []
   },
   "outputs": [
    {
     "data": {
      "text/plain": [
       "{'colsample_bytree': 1.0,\n",
       " 'gamma': 1.5,\n",
       " 'max_depth': 5,\n",
       " 'min_child_weight': 10,\n",
       " 'subsample': 0.6}"
      ]
     },
     "execution_count": 33,
     "metadata": {},
     "output_type": "execute_result"
    }
   ],
   "source": [
    "grid_xgb.best_params_"
   ]
  },
  {
   "cell_type": "code",
   "execution_count": 34,
   "id": "757d3ad9",
   "metadata": {
    "execution": {
     "iopub.execute_input": "2022-07-11T15:07:00.336603Z",
     "iopub.status.busy": "2022-07-11T15:07:00.335857Z",
     "iopub.status.idle": "2022-07-11T15:07:00.341481Z",
     "shell.execute_reply": "2022-07-11T15:07:00.340689Z"
    },
    "papermill": {
     "duration": 0.024768,
     "end_time": "2022-07-11T15:07:00.343784",
     "exception": false,
     "start_time": "2022-07-11T15:07:00.319016",
     "status": "completed"
    },
    "tags": []
   },
   "outputs": [],
   "source": [
    "xgb_model = xgb.XGBClassifier(colsample_bytree=1, gamma=1.5, max_depth=5, min_child_weight=10, subsample=.6)"
   ]
  },
  {
   "cell_type": "code",
   "execution_count": 35,
   "id": "e43fbae2",
   "metadata": {
    "execution": {
     "iopub.execute_input": "2022-07-11T15:07:00.377150Z",
     "iopub.status.busy": "2022-07-11T15:07:00.376361Z",
     "iopub.status.idle": "2022-07-11T15:07:00.804348Z",
     "shell.execute_reply": "2022-07-11T15:07:00.803408Z"
    },
    "papermill": {
     "duration": 0.447451,
     "end_time": "2022-07-11T15:07:00.806950",
     "exception": false,
     "start_time": "2022-07-11T15:07:00.359499",
     "status": "completed"
    },
    "tags": []
   },
   "outputs": [
    {
     "data": {
      "text/plain": [
       "XGBClassifier(base_score=0.5, booster='gbtree', callbacks=None,\n",
       "              colsample_bylevel=1, colsample_bynode=1, colsample_bytree=1,\n",
       "              early_stopping_rounds=None, enable_categorical=False,\n",
       "              eval_metric=None, gamma=1.5, gpu_id=-1, grow_policy='depthwise',\n",
       "              importance_type=None, interaction_constraints='',\n",
       "              learning_rate=0.300000012, max_bin=256, max_cat_to_onehot=4,\n",
       "              max_delta_step=0, max_depth=5, max_leaves=0, min_child_weight=10,\n",
       "              missing=nan, monotone_constraints='()', n_estimators=100,\n",
       "              n_jobs=0, num_parallel_tree=1, predictor='auto', random_state=0,\n",
       "              reg_alpha=0, reg_lambda=1, ...)"
      ]
     },
     "execution_count": 35,
     "metadata": {},
     "output_type": "execute_result"
    }
   ],
   "source": [
    "xgb_model.fit(X_train_pca, y_train)"
   ]
  },
  {
   "cell_type": "code",
   "execution_count": 36,
   "id": "848e9c67",
   "metadata": {
    "execution": {
     "iopub.execute_input": "2022-07-11T15:07:00.840934Z",
     "iopub.status.busy": "2022-07-11T15:07:00.840283Z",
     "iopub.status.idle": "2022-07-11T15:07:00.850893Z",
     "shell.execute_reply": "2022-07-11T15:07:00.850060Z"
    },
    "papermill": {
     "duration": 0.030373,
     "end_time": "2022-07-11T15:07:00.853315",
     "exception": false,
     "start_time": "2022-07-11T15:07:00.822942",
     "status": "completed"
    },
    "tags": []
   },
   "outputs": [],
   "source": [
    "predictions = xgb_model.predict(X_test_pca)"
   ]
  },
  {
   "cell_type": "code",
   "execution_count": 37,
   "id": "d2e99da0",
   "metadata": {
    "execution": {
     "iopub.execute_input": "2022-07-11T15:07:00.888749Z",
     "iopub.status.busy": "2022-07-11T15:07:00.888342Z",
     "iopub.status.idle": "2022-07-11T15:07:00.892961Z",
     "shell.execute_reply": "2022-07-11T15:07:00.892204Z"
    },
    "papermill": {
     "duration": 0.023382,
     "end_time": "2022-07-11T15:07:00.894887",
     "exception": false,
     "start_time": "2022-07-11T15:07:00.871505",
     "status": "completed"
    },
    "tags": []
   },
   "outputs": [],
   "source": [
    "from sklearn.metrics import (accuracy_score, classification_report,\n",
    "                             confusion_matrix)"
   ]
  },
  {
   "cell_type": "markdown",
   "id": "fcf6c9f1",
   "metadata": {
    "papermill": {
     "duration": 0.015938,
     "end_time": "2022-07-11T15:07:00.926506",
     "exception": false,
     "start_time": "2022-07-11T15:07:00.910568",
     "status": "completed"
    },
    "tags": []
   },
   "source": [
    "<h1>5. Result</h1>"
   ]
  },
  {
   "cell_type": "code",
   "execution_count": 38,
   "id": "c0f2ee82",
   "metadata": {
    "execution": {
     "iopub.execute_input": "2022-07-11T15:07:00.960277Z",
     "iopub.status.busy": "2022-07-11T15:07:00.959566Z",
     "iopub.status.idle": "2022-07-11T15:07:00.966709Z",
     "shell.execute_reply": "2022-07-11T15:07:00.965701Z"
    },
    "papermill": {
     "duration": 0.026485,
     "end_time": "2022-07-11T15:07:00.968814",
     "exception": false,
     "start_time": "2022-07-11T15:07:00.942329",
     "status": "completed"
    },
    "tags": []
   },
   "outputs": [
    {
     "name": "stdout",
     "output_type": "stream",
     "text": [
      "LinearSVC score: 0.8344\n",
      "XGBoost score: 0.8816\n",
      "RandomForestClassifier score: 0.8792\n"
     ]
    }
   ],
   "source": [
    "print(\"LinearSVC score:\",accuracy_score(y_test, pred_yb))\n",
    "print(\"XGBoost score:\",accuracy_score(y_test, predictions))\n",
    "print(\"RandomForestClassifier score:\",accuracy_score(y_test, clf_pred))"
   ]
  }
 ],
 "metadata": {
  "kernelspec": {
   "display_name": "Python 3",
   "language": "python",
   "name": "python3"
  },
  "language_info": {
   "codemirror_mode": {
    "name": "ipython",
    "version": 3
   },
   "file_extension": ".py",
   "mimetype": "text/x-python",
   "name": "python",
   "nbconvert_exporter": "python",
   "pygments_lexer": "ipython3",
   "version": "3.7.12"
  },
  "papermill": {
   "default_parameters": {},
   "duration": 1311.891659,
   "end_time": "2022-07-11T15:07:01.810142",
   "environment_variables": {},
   "exception": null,
   "input_path": "__notebook__.ipynb",
   "output_path": "__notebook__.ipynb",
   "parameters": {},
   "start_time": "2022-07-11T14:45:09.918483",
   "version": "2.3.4"
  }
 },
 "nbformat": 4,
 "nbformat_minor": 5
}
